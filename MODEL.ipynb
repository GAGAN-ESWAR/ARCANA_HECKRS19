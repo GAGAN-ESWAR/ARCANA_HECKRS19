{
 "cells": [
  {
   "cell_type": "code",
   "execution_count": null,
   "id": "b3b51983-9cee-4cde-b9fc-0ce6e0db05f5",
   "metadata": {},
   "outputs": [
    {
     "name": "stdout",
     "output_type": "stream",
     "text": [
      "[*********************100%***********************]  1 of 1 completed\n",
      "[*********************100%***********************]  1 of 1 completed\n",
      "[*********************100%***********************]  1 of 1 completed\n",
      "[*********************100%***********************]  1 of 1 completed\n",
      "[*********************100%***********************]  1 of 1 completed\n"
     ]
    }
   ],
   "source": [
    "import pandas as pd\n",
    "import numpy as np\n",
    "\n",
    "import matplotlib.pyplot as plt\n",
    "import seaborn as sns\n",
    "sns.set_style('whitegrid')\n",
    "plt.style.use(\"fivethirtyeight\")\n",
    "%matplotlib inline\n",
    "\n",
    "# For reading stock data from yahoo\n",
    "from pandas_datareader.data import DataReader\n",
    "import yfinance as yf\n",
    "from pandas_datareader import data as pdr\n",
    "\n",
    "yf.pdr_override()\n",
    "\n",
    "# For time stamps\n",
    "from datetime import datetime\n",
    "\n",
    "\n",
    "# The tech stocks we'll use for this analysis\n",
    "tech_list = ['AAPL', 'GOOG', 'MSFT', 'AMZN']\n",
    "\n",
    "# Set up End and Start times for data grab\n",
    "tech_list = ['AAPL', 'GOOG', 'MSFT', 'AMZN']\n",
    "\n",
    "end = datetime.now()\n",
    "start = datetime(end.year - 10, end.month, end.day)\n",
    "\n",
    "for stock in tech_list:\n",
    "    globals()[stock] = yf.download(stock, start, end)\n",
    "    \n",
    "\n",
    "company_list = [AAPL, GOOG, MSFT, AMZN]\n",
    "company_name = [\"APPLE\", \"GOOGLE\", \"MICROSOFT\", \"AMAZON\"]\n",
    "\n",
    "for company, com_name in zip(company_list, company_name):\n",
    "    company[\"company_name\"] = com_name\n",
    "    \n",
    "df = pd.concat(company_list, axis=0)"
   ]
  },
  {
   "cell_type": "code",
   "execution_count": 36,
   "id": "651293d0-37b2-4bad-be82-fb6dcb5fe7e7",
   "metadata": {},
   "outputs": [
    {
     "data": {
      "text/html": [
       "<div>\n",
       "<style scoped>\n",
       "    .dataframe tbody tr th:only-of-type {\n",
       "        vertical-align: middle;\n",
       "    }\n",
       "\n",
       "    .dataframe tbody tr th {\n",
       "        vertical-align: top;\n",
       "    }\n",
       "\n",
       "    .dataframe thead th {\n",
       "        text-align: right;\n",
       "    }\n",
       "</style>\n",
       "<table border=\"1\" class=\"dataframe\">\n",
       "  <thead>\n",
       "    <tr style=\"text-align: right;\">\n",
       "      <th></th>\n",
       "      <th>Open</th>\n",
       "      <th>High</th>\n",
       "      <th>Low</th>\n",
       "      <th>Close</th>\n",
       "      <th>Adj Close</th>\n",
       "      <th>Volume</th>\n",
       "      <th>company_name</th>\n",
       "      <th>Daily Return</th>\n",
       "    </tr>\n",
       "    <tr>\n",
       "      <th>Date</th>\n",
       "      <th></th>\n",
       "      <th></th>\n",
       "      <th></th>\n",
       "      <th></th>\n",
       "      <th></th>\n",
       "      <th></th>\n",
       "      <th></th>\n",
       "      <th></th>\n",
       "    </tr>\n",
       "  </thead>\n",
       "  <tbody>\n",
       "    <tr>\n",
       "      <th>2013-04-15</th>\n",
       "      <td>15.250000</td>\n",
       "      <td>15.281786</td>\n",
       "      <td>14.983929</td>\n",
       "      <td>14.994643</td>\n",
       "      <td>12.950589</td>\n",
       "      <td>317520000</td>\n",
       "      <td>APPLE</td>\n",
       "      <td>NaN</td>\n",
       "    </tr>\n",
       "    <tr>\n",
       "      <th>2013-04-16</th>\n",
       "      <td>15.056071</td>\n",
       "      <td>15.236071</td>\n",
       "      <td>15.020357</td>\n",
       "      <td>15.222857</td>\n",
       "      <td>13.147695</td>\n",
       "      <td>305771200</td>\n",
       "      <td>APPLE</td>\n",
       "      <td>0.015220</td>\n",
       "    </tr>\n",
       "    <tr>\n",
       "      <th>2013-04-17</th>\n",
       "      <td>15.009643</td>\n",
       "      <td>15.021429</td>\n",
       "      <td>14.218214</td>\n",
       "      <td>14.385714</td>\n",
       "      <td>12.424671</td>\n",
       "      <td>945056000</td>\n",
       "      <td>APPLE</td>\n",
       "      <td>-0.054992</td>\n",
       "    </tr>\n",
       "    <tr>\n",
       "      <th>2013-04-18</th>\n",
       "      <td>14.463929</td>\n",
       "      <td>14.492500</td>\n",
       "      <td>13.919286</td>\n",
       "      <td>14.001786</td>\n",
       "      <td>12.093080</td>\n",
       "      <td>666299200</td>\n",
       "      <td>APPLE</td>\n",
       "      <td>-0.026688</td>\n",
       "    </tr>\n",
       "    <tr>\n",
       "      <th>2013-04-19</th>\n",
       "      <td>13.856071</td>\n",
       "      <td>14.271429</td>\n",
       "      <td>13.753571</td>\n",
       "      <td>13.947500</td>\n",
       "      <td>12.046190</td>\n",
       "      <td>609274400</td>\n",
       "      <td>APPLE</td>\n",
       "      <td>-0.003877</td>\n",
       "    </tr>\n",
       "    <tr>\n",
       "      <th>...</th>\n",
       "      <td>...</td>\n",
       "      <td>...</td>\n",
       "      <td>...</td>\n",
       "      <td>...</td>\n",
       "      <td>...</td>\n",
       "      <td>...</td>\n",
       "      <td>...</td>\n",
       "      <td>...</td>\n",
       "    </tr>\n",
       "    <tr>\n",
       "      <th>2023-04-10</th>\n",
       "      <td>161.419998</td>\n",
       "      <td>162.029999</td>\n",
       "      <td>160.080002</td>\n",
       "      <td>162.029999</td>\n",
       "      <td>162.029999</td>\n",
       "      <td>47716900</td>\n",
       "      <td>APPLE</td>\n",
       "      <td>-0.015972</td>\n",
       "    </tr>\n",
       "    <tr>\n",
       "      <th>2023-04-11</th>\n",
       "      <td>162.350006</td>\n",
       "      <td>162.360001</td>\n",
       "      <td>160.509995</td>\n",
       "      <td>160.800003</td>\n",
       "      <td>160.800003</td>\n",
       "      <td>47644200</td>\n",
       "      <td>APPLE</td>\n",
       "      <td>-0.007591</td>\n",
       "    </tr>\n",
       "    <tr>\n",
       "      <th>2023-04-12</th>\n",
       "      <td>161.220001</td>\n",
       "      <td>162.059998</td>\n",
       "      <td>159.779999</td>\n",
       "      <td>160.100006</td>\n",
       "      <td>160.100006</td>\n",
       "      <td>50133100</td>\n",
       "      <td>APPLE</td>\n",
       "      <td>-0.004353</td>\n",
       "    </tr>\n",
       "    <tr>\n",
       "      <th>2023-04-13</th>\n",
       "      <td>161.630005</td>\n",
       "      <td>165.800003</td>\n",
       "      <td>161.419998</td>\n",
       "      <td>165.559998</td>\n",
       "      <td>165.559998</td>\n",
       "      <td>68445600</td>\n",
       "      <td>APPLE</td>\n",
       "      <td>0.034104</td>\n",
       "    </tr>\n",
       "    <tr>\n",
       "      <th>2023-04-14</th>\n",
       "      <td>164.589996</td>\n",
       "      <td>166.320007</td>\n",
       "      <td>163.820007</td>\n",
       "      <td>165.210007</td>\n",
       "      <td>165.210007</td>\n",
       "      <td>49337200</td>\n",
       "      <td>APPLE</td>\n",
       "      <td>-0.002114</td>\n",
       "    </tr>\n",
       "  </tbody>\n",
       "</table>\n",
       "<p>2519 rows × 8 columns</p>\n",
       "</div>"
      ],
      "text/plain": [
       "                  Open        High         Low       Close   Adj Close  \\\n",
       "Date                                                                     \n",
       "2013-04-15   15.250000   15.281786   14.983929   14.994643   12.950589   \n",
       "2013-04-16   15.056071   15.236071   15.020357   15.222857   13.147695   \n",
       "2013-04-17   15.009643   15.021429   14.218214   14.385714   12.424671   \n",
       "2013-04-18   14.463929   14.492500   13.919286   14.001786   12.093080   \n",
       "2013-04-19   13.856071   14.271429   13.753571   13.947500   12.046190   \n",
       "...                ...         ...         ...         ...         ...   \n",
       "2023-04-10  161.419998  162.029999  160.080002  162.029999  162.029999   \n",
       "2023-04-11  162.350006  162.360001  160.509995  160.800003  160.800003   \n",
       "2023-04-12  161.220001  162.059998  159.779999  160.100006  160.100006   \n",
       "2023-04-13  161.630005  165.800003  161.419998  165.559998  165.559998   \n",
       "2023-04-14  164.589996  166.320007  163.820007  165.210007  165.210007   \n",
       "\n",
       "               Volume company_name  Daily Return  \n",
       "Date                                              \n",
       "2013-04-15  317520000        APPLE           NaN  \n",
       "2013-04-16  305771200        APPLE      0.015220  \n",
       "2013-04-17  945056000        APPLE     -0.054992  \n",
       "2013-04-18  666299200        APPLE     -0.026688  \n",
       "2013-04-19  609274400        APPLE     -0.003877  \n",
       "...               ...          ...           ...  \n",
       "2023-04-10   47716900        APPLE     -0.015972  \n",
       "2023-04-11   47644200        APPLE     -0.007591  \n",
       "2023-04-12   50133100        APPLE     -0.004353  \n",
       "2023-04-13   68445600        APPLE      0.034104  \n",
       "2023-04-14   49337200        APPLE     -0.002114  \n",
       "\n",
       "[2519 rows x 8 columns]"
      ]
     },
     "execution_count": 36,
     "metadata": {},
     "output_type": "execute_result"
    }
   ],
   "source": [
    "AAPL"
   ]
  },
  {
   "cell_type": "code",
   "execution_count": 37,
   "id": "b471dc5c-9097-4d2f-a522-4e20fcb609c9",
   "metadata": {},
   "outputs": [],
   "source": [
    "# We'll use pct_change to find the percent change for each day\n",
    "for company in company_list:\n",
    "    company['Daily Return'] = company['Adj Close'].pct_change()"
   ]
  },
  {
   "cell_type": "code",
   "execution_count": 38,
   "id": "f3559974-861e-4a53-a8bf-a50180c9ec3e",
   "metadata": {},
   "outputs": [
    {
     "name": "stdout",
     "output_type": "stream",
     "text": [
      "[*********************100%***********************]  5 of 5 completed\n"
     ]
    },
    {
     "data": {
      "text/html": [
       "<div>\n",
       "<style scoped>\n",
       "    .dataframe tbody tr th:only-of-type {\n",
       "        vertical-align: middle;\n",
       "    }\n",
       "\n",
       "    .dataframe tbody tr th {\n",
       "        vertical-align: top;\n",
       "    }\n",
       "\n",
       "    .dataframe thead th {\n",
       "        text-align: right;\n",
       "    }\n",
       "</style>\n",
       "<table border=\"1\" class=\"dataframe\">\n",
       "  <thead>\n",
       "    <tr style=\"text-align: right;\">\n",
       "      <th></th>\n",
       "      <th>AAPL</th>\n",
       "      <th>AMZN</th>\n",
       "      <th>GOOG</th>\n",
       "      <th>MSFT</th>\n",
       "      <th>NVDA</th>\n",
       "    </tr>\n",
       "    <tr>\n",
       "      <th>Date</th>\n",
       "      <th></th>\n",
       "      <th></th>\n",
       "      <th></th>\n",
       "      <th></th>\n",
       "      <th></th>\n",
       "    </tr>\n",
       "  </thead>\n",
       "  <tbody>\n",
       "    <tr>\n",
       "      <th>2013-04-15</th>\n",
       "      <td>NaN</td>\n",
       "      <td>NaN</td>\n",
       "      <td>NaN</td>\n",
       "      <td>NaN</td>\n",
       "      <td>NaN</td>\n",
       "    </tr>\n",
       "    <tr>\n",
       "      <th>2013-04-16</th>\n",
       "      <td>0.015219</td>\n",
       "      <td>0.017257</td>\n",
       "      <td>0.014630</td>\n",
       "      <td>0.009759</td>\n",
       "      <td>0.010921</td>\n",
       "    </tr>\n",
       "    <tr>\n",
       "      <th>2013-04-17</th>\n",
       "      <td>-0.054993</td>\n",
       "      <td>-0.018139</td>\n",
       "      <td>-0.013625</td>\n",
       "      <td>-0.004833</td>\n",
       "      <td>-0.013118</td>\n",
       "    </tr>\n",
       "    <tr>\n",
       "      <th>2013-04-18</th>\n",
       "      <td>-0.026688</td>\n",
       "      <td>-0.029843</td>\n",
       "      <td>-0.021276</td>\n",
       "      <td>-0.001388</td>\n",
       "      <td>-0.019546</td>\n",
       "    </tr>\n",
       "    <tr>\n",
       "      <th>2013-04-19</th>\n",
       "      <td>-0.003877</td>\n",
       "      <td>0.003469</td>\n",
       "      <td>0.044339</td>\n",
       "      <td>0.034040</td>\n",
       "      <td>0.002392</td>\n",
       "    </tr>\n",
       "  </tbody>\n",
       "</table>\n",
       "</div>"
      ],
      "text/plain": [
       "                AAPL      AMZN      GOOG      MSFT      NVDA\n",
       "Date                                                        \n",
       "2013-04-15       NaN       NaN       NaN       NaN       NaN\n",
       "2013-04-16  0.015219  0.017257  0.014630  0.009759  0.010921\n",
       "2013-04-17 -0.054993 -0.018139 -0.013625 -0.004833 -0.013118\n",
       "2013-04-18 -0.026688 -0.029843 -0.021276 -0.001388 -0.019546\n",
       "2013-04-19 -0.003877  0.003469  0.044339  0.034040  0.002392"
      ]
     },
     "execution_count": 38,
     "metadata": {},
     "output_type": "execute_result"
    }
   ],
   "source": [
    "# Grab all the closing prices for the tech stock list into one DataFrame\n",
    "\n",
    "closing_df = pdr.get_data_yahoo(tech_list, start=start, end=end)['Adj Close']\n",
    "\n",
    "# Make a new tech returns DataFrame\n",
    "tech_rets = closing_df.pct_change()\n",
    "tech_rets.head()\n"
   ]
  },
  {
   "cell_type": "code",
   "execution_count": 39,
   "id": "04eb9ee6-e0bf-4728-bde1-a5f29cd272a9",
   "metadata": {},
   "outputs": [
    {
     "data": {
      "image/png": "[encoded data removed]",
      "text/plain": [
       "<Figure size 1000x800 with 1 Axes>"
      ]
     },
     "metadata": {},
     "output_type": "display_data"
    }
   ],
   "source": [
    "rets = tech_rets.dropna()\n",
    "\n",
    "area = np.pi * 20\n",
    "\n",
    "plt.figure(figsize=(10, 8))\n",
    "plt.scatter(rets.mean(), rets.std(), s=area)\n",
    "plt.xlabel('Expected return')\n",
    "plt.ylabel('Risk')\n",
    "\n",
    "for label, x, y in zip(rets.columns, rets.mean(), rets.std()):\n",
    "    plt.annotate(label,xy=(x, y),xytext=(50, 50),textcoords='offset points',ha='right',va='bottom',arrowprops=dict(arrowstyle='-',color='blue',connectionstyle='arc3,rad=-0.3'))"
   ]
  },
  {
   "cell_type": "code",
   "execution_count": 40,
   "id": "e32dd3ef-5949-464b-8434-d23f21c24502",
   "metadata": {},
   "outputs": [],
   "source": [
    "df=AAPL"
   ]
  },
  {
   "cell_type": "code",
   "execution_count": 41,
   "id": "85b5e841-869d-4986-ad20-7b8f86dcef54",
   "metadata": {},
   "outputs": [
    {
     "data": {
      "text/plain": [
       "2394"
      ]
     },
     "execution_count": 41,
     "metadata": {},
     "output_type": "execute_result"
    }
   ],
   "source": [
    "# Create a new dataframe with only the 'Close column \n",
    "data = df.filter(['Close'])\n",
    "# Convert the dataframe to a numpy array\n",
    "dataset = data.values\n",
    "# Get the number of rows to train the model on\n",
    "training_data_len = int(np.ceil( len(dataset) * .95 ))\n",
    "\n",
    "training_data_len"
   ]
  },
  {
   "cell_type": "code",
   "execution_count": 42,
   "id": "70902295-c343-4292-b5aa-fdeff465b3e3",
   "metadata": {},
   "outputs": [
    {
     "data": {
      "text/plain": [
       "array([[0.00623068],\n",
       "       [0.00758859],\n",
       "       [0.00260744],\n",
       "       ...,\n",
       "       [0.8696319 ],\n",
       "       [0.90211976],\n",
       "       [0.90003726]])"
      ]
     },
     "execution_count": 42,
     "metadata": {},
     "output_type": "execute_result"
    }
   ],
   "source": [
    "# Scale the data\n",
    "from sklearn.preprocessing import MinMaxScaler\n",
    "\n",
    "scaler = MinMaxScaler(feature_range=(0,1))\n",
    "scaled_data = scaler.fit_transform(dataset)\n",
    "\n",
    "scaled_data"
   ]
  },
  {
   "cell_type": "code",
   "execution_count": 43,
   "id": "1e9c0ab2-74ed-41b6-8f2f-89e5b850f062",
   "metadata": {},
   "outputs": [
    {
     "name": "stdout",
     "output_type": "stream",
     "text": [
      "[array([0.00623068, 0.00758859, 0.00260744, 0.00032301, 0.        ,\n",
      "       0.00172979, 0.0033151 , 0.00317271, 0.00379323, 0.00566753,\n",
      "       0.00841311, 0.01110343, 0.01036179, 0.01168571, 0.01263348,\n",
      "       0.01491368, 0.01447803, 0.01557881, 0.01407639, 0.01326887,\n",
      "       0.013645  , 0.01133295, 0.00814322, 0.00936088, 0.00908038,\n",
      "       0.01113531, 0.01044042, 0.01079955, 0.01096743, 0.01160708,\n",
      "       0.01081867, 0.01156457, 0.01297349, 0.01258036, 0.01279074,\n",
      "       0.0124911 , 0.01159858, 0.01018541, 0.01089731, 0.01027679,\n",
      "       0.01000265, 0.008853  , 0.00965414, 0.00839824, 0.00881262,\n",
      "       0.00876374, 0.00690007, 0.00559103, 0.00488126, 0.0025522 ,\n",
      "       0.00257132, 0.0016023 , 0.00069064, 0.00127504, 0.00397173,\n",
      "       0.00594166, 0.00643255, 0.00571428, 0.00521064, 0.00676194])]\n",
      "[0.006417674392728834]\n",
      "\n",
      "[array([0.00623068, 0.00758859, 0.00260744, 0.00032301, 0.        ,\n",
      "       0.00172979, 0.0033151 , 0.00317271, 0.00379323, 0.00566753,\n",
      "       0.00841311, 0.01110343, 0.01036179, 0.01168571, 0.01263348,\n",
      "       0.01491368, 0.01447803, 0.01557881, 0.01407639, 0.01326887,\n",
      "       0.013645  , 0.01133295, 0.00814322, 0.00936088, 0.00908038,\n",
      "       0.01113531, 0.01044042, 0.01079955, 0.01096743, 0.01160708,\n",
      "       0.01081867, 0.01156457, 0.01297349, 0.01258036, 0.01279074,\n",
      "       0.0124911 , 0.01159858, 0.01018541, 0.01089731, 0.01027679,\n",
      "       0.01000265, 0.008853  , 0.00965414, 0.00839824, 0.00881262,\n",
      "       0.00876374, 0.00690007, 0.00559103, 0.00488126, 0.0025522 ,\n",
      "       0.00257132, 0.0016023 , 0.00069064, 0.00127504, 0.00397173,\n",
      "       0.00594166, 0.00643255, 0.00571428, 0.00521064, 0.00676194]), array([0.00758859, 0.00260744, 0.00032301, 0.        , 0.00172979,\n",
      "       0.0033151 , 0.00317271, 0.00379323, 0.00566753, 0.00841311,\n",
      "       0.01110343, 0.01036179, 0.01168571, 0.01263348, 0.01491368,\n",
      "       0.01447803, 0.01557881, 0.01407639, 0.01326887, 0.013645  ,\n",
      "       0.01133295, 0.00814322, 0.00936088, 0.00908038, 0.01113531,\n",
      "       0.01044042, 0.01079955, 0.01096743, 0.01160708, 0.01081867,\n",
      "       0.01156457, 0.01297349, 0.01258036, 0.01279074, 0.0124911 ,\n",
      "       0.01159858, 0.01018541, 0.01089731, 0.01027679, 0.01000265,\n",
      "       0.008853  , 0.00965414, 0.00839824, 0.00881262, 0.00876374,\n",
      "       0.00690007, 0.00559103, 0.00488126, 0.0025522 , 0.00257132,\n",
      "       0.0016023 , 0.00069064, 0.00127504, 0.00397173, 0.00594166,\n",
      "       0.00643255, 0.00571428, 0.00521064, 0.00676194, 0.00641767])]\n",
      "[0.006417674392728834, 0.007811717181961109]\n",
      "\n"
     ]
    },
    {
     "data": {
      "text/plain": [
       "(2334, 60, 1)"
      ]
     },
     "execution_count": 43,
     "metadata": {},
     "output_type": "execute_result"
    }
   ],
   "source": [
    "# Create the training data set \n",
    "# Create the scaled training data set\n",
    "train_data = scaled_data[0:int(training_data_len), :]\n",
    "# Split the data into x_train and y_train data sets\n",
    "x_train = []\n",
    "y_train = []\n",
    "\n",
    "for i in range(60, len(train_data)):\n",
    "    x_train.append(train_data[i-60:i, 0])\n",
    "    y_train.append(train_data[i, 0])\n",
    "    if i<= 61:\n",
    "        print(x_train)\n",
    "        print(y_train)\n",
    "        print()\n",
    "        \n",
    "# Convert the x_train and y_train to numpy arrays \n",
    "x_train, y_train = np.array(x_train), np.array(y_train)\n",
    "\n",
    "# Reshape the data\n",
    "x_train = np.reshape(x_train, (x_train.shape[0], x_train.shape[1], 1))\n",
    "x_train.shape"
   ]
  },
  {
   "cell_type": "code",
   "execution_count": 44,
   "id": "757599e3-c277-4026-8b9e-b7d3b02a565b",
   "metadata": {},
   "outputs": [
    {
     "name": "stdout",
     "output_type": "stream",
     "text": [
      "2334/2334 [==============================] - 57s 23ms/step - loss: 0.0015\n"
     ]
    },
    {
     "data": {
      "text/plain": [
       "<keras.callbacks.History at 0x177197bdf10>"
      ]
     },
     "execution_count": 44,
     "metadata": {},
     "output_type": "execute_result"
    }
   ],
   "source": [
    "from keras.models import Sequential\n",
    "from keras.layers import Dense, LSTM\n",
    "\n",
    "# Build the LSTM model\n",
    "model = Sequential()\n",
    "model.add(LSTM(128, return_sequences=True, input_shape= (x_train.shape[1], 1)))\n",
    "model.add(LSTM(64, return_sequences=False))\n",
    "model.add(Dense(25))\n",
    "model.add(Dense(1))\n",
    "\n",
    "# Compile the model\n",
    "model.compile(optimizer='adam', loss='mean_squared_error')\n",
    "\n",
    "# Train the model\n",
    "model.fit(x_train, y_train, batch_size=1, epochs=1)"
   ]
  },
  {
   "cell_type": "code",
   "execution_count": 46,
   "id": "d46a3088-8f8e-4338-9565-4b2d0ee736c8",
   "metadata": {},
   "outputs": [
    {
     "name": "stdout",
     "output_type": "stream",
     "text": [
      "4/4 [==============================] - 4s 20ms/step\n"
     ]
    },
    {
     "data": {
      "text/plain": [
       "4.960194322284545"
      ]
     },
     "execution_count": 46,
     "metadata": {},
     "output_type": "execute_result"
    }
   ],
   "source": [
    "# Create the testing data set\n",
    "# Create a new array containing scaled values from index 1543 to 2002 \n",
    "test_data = scaled_data[training_data_len - 60: , :]\n",
    "# Create the data sets x_test and y_test\n",
    "x_test = []\n",
    "y_test = dataset[training_data_len:, :]\n",
    "for i in range(60, len(test_data)):\n",
    "    x_test.append(test_data[i-60:i, 0])\n",
    "    \n",
    "# Convert the data to a numpy array\n",
    "x_test = np.array(x_test)\n",
    "\n",
    "# Reshape the data\n",
    "x_test = np.reshape(x_test, (x_test.shape[0], x_test.shape[1], 1 ))\n",
    "\n",
    "# Get the models predicted price values \n",
    "predictions = model.predict(x_test)\n",
    "predictions = scaler.inverse_transform(predictions)\n",
    "\n",
    "# Get the root mean squared error (RMSE)\n",
    "rmse = np.sqrt(np.mean(((predictions - y_test) ** 2)))\n",
    "rmse"
   ]
  },
  {
   "cell_type": "code",
   "execution_count": 47,
   "id": "01db9f4a-ea70-4e5f-adc1-dd3b1a9b7f1e",
   "metadata": {},
   "outputs": [
    {
     "name": "stderr",
     "output_type": "stream",
     "text": [
      "C:\\Users\\harshavardhan\\AppData\\Local\\Temp\\ipykernel_18916\\2388977846.py:4: SettingWithCopyWarning: \n",
      "A value is trying to be set on a copy of a slice from a DataFrame.\n",
      "Try using .loc[row_indexer,col_indexer] = value instead\n",
      "\n",
      "See the caveats in the documentation: https://pandas.pydata.org/pandas-docs/stable/user_guide/indexing.html#returning-a-view-versus-a-copy\n",
      "  valid['Predictions'] = predictions\n"
     ]
    },
    {
     "data": {
      "image/png": "[encoded data removed]",
      "text/plain": [
       "<Figure size 1600x600 with 1 Axes>"
      ]
     },
     "metadata": {},
     "output_type": "display_data"
    }
   ],
   "source": [
    "# Plot the data\n",
    "train = data[:training_data_len]\n",
    "valid = data[training_data_len:]\n",
    "valid['Predictions'] = predictions\n",
    "# Visualize the data\n",
    "plt.figure(figsize=(16,6))\n",
    "plt.title('Model')\n",
    "plt.xlabel('Date', fontsize=18)\n",
    "plt.ylabel('Close Price USD ($)', fontsize=18)\n",
    "plt.plot(train['Close'])\n",
    "plt.plot(valid[['Close', 'Predictions']])\n",
    "plt.legend(['Train', 'Val', 'Predictions'], loc='lower right')\n",
    "plt.show()"
   ]
  },
  {
   "cell_type": "code",
   "execution_count": 48,
   "id": "738ffc30-9d02-483a-b967-6786320d7638",
   "metadata": {},
   "outputs": [
    {
     "data": {
      "text/html": [
       "<div>\n",
       "<style scoped>\n",
       "    .dataframe tbody tr th:only-of-type {\n",
       "        vertical-align: middle;\n",
       "    }\n",
       "\n",
       "    .dataframe tbody tr th {\n",
       "        vertical-align: top;\n",
       "    }\n",
       "\n",
       "    .dataframe thead th {\n",
       "        text-align: right;\n",
       "    }\n",
       "</style>\n",
       "<table border=\"1\" class=\"dataframe\">\n",
       "  <thead>\n",
       "    <tr style=\"text-align: right;\">\n",
       "      <th></th>\n",
       "      <th>Close</th>\n",
       "      <th>Predictions</th>\n",
       "    </tr>\n",
       "    <tr>\n",
       "      <th>Date</th>\n",
       "      <th></th>\n",
       "      <th></th>\n",
       "    </tr>\n",
       "  </thead>\n",
       "  <tbody>\n",
       "    <tr>\n",
       "      <th>2022-10-14</th>\n",
       "      <td>138.380005</td>\n",
       "      <td>144.509583</td>\n",
       "    </tr>\n",
       "    <tr>\n",
       "      <th>2022-10-17</th>\n",
       "      <td>142.410004</td>\n",
       "      <td>144.020676</td>\n",
       "    </tr>\n",
       "    <tr>\n",
       "      <th>2022-10-18</th>\n",
       "      <td>143.750000</td>\n",
       "      <td>144.136108</td>\n",
       "    </tr>\n",
       "    <tr>\n",
       "      <th>2022-10-19</th>\n",
       "      <td>143.860001</td>\n",
       "      <td>144.700409</td>\n",
       "    </tr>\n",
       "    <tr>\n",
       "      <th>2022-10-20</th>\n",
       "      <td>143.389999</td>\n",
       "      <td>145.384735</td>\n",
       "    </tr>\n",
       "    <tr>\n",
       "      <th>...</th>\n",
       "      <td>...</td>\n",
       "      <td>...</td>\n",
       "    </tr>\n",
       "    <tr>\n",
       "      <th>2023-04-10</th>\n",
       "      <td>162.029999</td>\n",
       "      <td>167.276688</td>\n",
       "    </tr>\n",
       "    <tr>\n",
       "      <th>2023-04-11</th>\n",
       "      <td>160.800003</td>\n",
       "      <td>167.054169</td>\n",
       "    </tr>\n",
       "    <tr>\n",
       "      <th>2023-04-12</th>\n",
       "      <td>160.100006</td>\n",
       "      <td>166.432449</td>\n",
       "    </tr>\n",
       "    <tr>\n",
       "      <th>2023-04-13</th>\n",
       "      <td>165.559998</td>\n",
       "      <td>165.633011</td>\n",
       "    </tr>\n",
       "    <tr>\n",
       "      <th>2023-04-14</th>\n",
       "      <td>165.210007</td>\n",
       "      <td>165.777878</td>\n",
       "    </tr>\n",
       "  </tbody>\n",
       "</table>\n",
       "<p>125 rows × 2 columns</p>\n",
       "</div>"
      ],
      "text/plain": [
       "                 Close  Predictions\n",
       "Date                               \n",
       "2022-10-14  138.380005   144.509583\n",
       "2022-10-17  142.410004   144.020676\n",
       "2022-10-18  143.750000   144.136108\n",
       "2022-10-19  143.860001   144.700409\n",
       "2022-10-20  143.389999   145.384735\n",
       "...                ...          ...\n",
       "2023-04-10  162.029999   167.276688\n",
       "2023-04-11  160.800003   167.054169\n",
       "2023-04-12  160.100006   166.432449\n",
       "2023-04-13  165.559998   165.633011\n",
       "2023-04-14  165.210007   165.777878\n",
       "\n",
       "[125 rows x 2 columns]"
      ]
     },
     "execution_count": 48,
     "metadata": {},
     "output_type": "execute_result"
    }
   ],
   "source": [
    "valid"
   ]
  },
  {
   "cell_type": "code",
   "execution_count": null,
   "id": "67ebc495-3f83-461d-9154-2744dc3be42b",
   "metadata": {},
   "outputs": [],
   "source": []
  }
 ],
 "metadata": {
  "kernelspec": {
   "display_name": "Python 3 (ipykernel)",
   "language": "python",
   "name": "python3"
  },
  "language_info": {
   "codemirror_mode": {
    "name": "ipython",
    "version": 3
   },
   "file_extension": ".py",
   "mimetype": "text/x-python",
   "name": "python",
   "nbconvert_exporter": "python",
   "pygments_lexer": "ipython3",
   "version": "3.9.12"
  }
 },
 "nbformat": 4,
 "nbformat_minor": 5
}
